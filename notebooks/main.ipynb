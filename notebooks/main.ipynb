{
 "cells": [
  {
   "cell_type": "markdown",
   "id": "d62281d4",
   "metadata": {},
   "source": [
    "# AI-WEDDER MODEL NOTEBOOK"
   ]
  },
  {
   "cell_type": "markdown",
   "id": "d8b3c604",
   "metadata": {},
   "source": [
    "The aim of this notebook is to showcase the methodology used to create the AI-Wedder model. The goal is to generate Wedding Catering agencies' descriptions based on public reviews. The model is trained on a dataset of 4411 reviews, which are then used to generate new descriptions.\n",
    "\n",
    "In this notebook, we will cover the following steps:\n",
    "1. **Data Preparation**: Loading and preprocessing the dataset.\n",
    "2. **Model Training**: Fine-tuning a pre-trained language model on the dataset.\n",
    "3. **Model Evaluation**: Evaluating the model's performance.\n",
    "4. **Model Inference**: Generating new descriptions using the trained model.\n"
   ]
  },
  {
   "cell_type": "code",
   "execution_count": null,
   "id": "c71736e3",
   "metadata": {
    "vscode": {
     "languageId": "plaintext"
    }
   },
   "outputs": [],
   "source": []
  }
 ],
 "metadata": {
  "language_info": {
   "name": "python"
  }
 },
 "nbformat": 4,
 "nbformat_minor": 5
}
