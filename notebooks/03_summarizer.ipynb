{
 "cells": [
  {
   "cell_type": "markdown",
   "id": "767067d4",
   "metadata": {},
   "source": [
    "# Clusterer"
   ]
  },
  {
   "cell_type": "markdown",
   "id": "9cfed5c6",
   "metadata": {},
   "source": [
    "## Setup"
   ]
  },
  {
   "cell_type": "code",
   "execution_count": 1,
   "id": "b4d5db52",
   "metadata": {},
   "outputs": [],
   "source": [
    "import os\n",
    "from dotenv import load_dotenv\n",
    "\n",
    "load_dotenv()\n",
    "\n",
    "OPENAI_API_KEY = os.getenv('OPENAI_API_KEY')"
   ]
  },
  {
   "cell_type": "markdown",
   "id": "5d4a6f11",
   "metadata": {},
   "source": [
    "## Import Dataset"
   ]
  },
  {
   "cell_type": "code",
   "execution_count": 2,
   "id": "50d357e2",
   "metadata": {},
   "outputs": [
    {
     "name": "stdout",
     "output_type": "stream",
     "text": [
      "Processed Data:\n",
      "          cateringCompanyId        cateringCompanyName  \\\n",
      "0  6852dce274c91954046c1d35  Le Traiteur des 4 Saisons   \n",
      "1  6852d6b174c91954046c1d17          Les Petits Bruits   \n",
      "2  6852dce574c91954046c1d38              Aldo Traiteur   \n",
      "3  6852dd1374c91954046c1d52         La Fine Fourchette   \n",
      "4  6852dcf674c91954046c1d44            Loison Traiteur   \n",
      "\n",
      "                                             reviews  \n",
      "0  [{'text': 'Nous avons fait appel au traiteur d...  \n",
      "1  [{'text': 'Aurore a été super du début à la fi...  \n",
      "2  [{'text': 'Le menu était très bon, nos invités...  \n",
      "3  [{'text': 'Tout est dans le titre: que ce soit...  \n",
      "4  [{'text': 'Nous sommes ravis d'avoir choisi Lo...  \n"
     ]
    }
   ],
   "source": [
    "import pandas as pd\n",
    "\n",
    "file_path = \"../data/catering_reviews_clustered.json\"\n",
    "data = pd.read_json(file_path)\n",
    "\n",
    "if data is not None:\n",
    "    print(\"Processed Data:\")\n",
    "    print(data.head())\n",
    "else:\n",
    "    print(\"No data to process.\")"
   ]
  },
  {
   "cell_type": "markdown",
   "id": "b33f8ddc",
   "metadata": {},
   "source": [
    "## Prepare the prompt"
   ]
  },
  {
   "cell_type": "code",
   "execution_count": 3,
   "id": "12c08cd1",
   "metadata": {},
   "outputs": [],
   "source": [
    "from openai import OpenAI\n",
    "\n",
    "# Create the client with the API key\n",
    "client = OpenAI(api_key=OPENAI_API_KEY)"
   ]
  },
  {
   "cell_type": "code",
   "execution_count": 4,
   "id": "2ad82c1c",
   "metadata": {},
   "outputs": [],
   "source": [
    "# Create the prompt function\n",
    "def summarize(prompt, model=\"gpt-3.5-turbo\"): # Andrew mentioned that the prompt/ completion paradigm is preferable for this class\n",
    "  messages = [{\"role\": \"user\", \"content\": prompt}]\n",
    "  response = client.chat.completions.create(\n",
    "      model=model,\n",
    "      messages=messages,\n",
    "      temperature=0.3,\n",
    "  )\n",
    "  return response.choices[0].message.content"
   ]
  },
  {
   "cell_type": "code",
   "execution_count": 5,
   "id": "6bf51a45",
   "metadata": {},
   "outputs": [],
   "source": [
    "data[\"summary\"] = \"\"\n",
    "data[\"key_points\"] = \"\"\n",
    "data[\"global_score\"] = \"\""
   ]
  },
  {
   "cell_type": "code",
   "execution_count": 7,
   "id": "9a75c454",
   "metadata": {},
   "outputs": [
    {
     "name": "stderr",
     "output_type": "stream",
     "text": [
      "100%|██████████| 117/117 [14:59<00:00,  7.69s/it]\n"
     ]
    }
   ],
   "source": [
    "from tqdm import tqdm\n",
    "\n",
    "def batch_reviews(reviews, batch_size=5):\n",
    "    for i in range(0, len(reviews), batch_size):\n",
    "        yield reviews[i:i + batch_size]\n",
    "\n",
    "# Analyse des traiteurs\n",
    "for i, row in tqdm(data.iterrows(), total=len(data)):\n",
    "    company_name = row[\"cateringCompanyName\"]\n",
    "    reviews = row[\"reviews\"]\n",
    "\n",
    "    summaries = []\n",
    "    for batch in batch_reviews(reviews, batch_size=10):\n",
    "        joined = \"\\n\\n\".join([r[\"text\"] for r in batch if \"text\" in r and r[\"text\"]])\n",
    "        prompt = f\"\"\"\n",
    "        Tu es un assistant d'analyse d'avis pour des traiteurs de mariage.\n",
    "\n",
    "        Voici un extrait d'avis pour le traiteur **{company_name}** :\n",
    "\n",
    "        {joined}\n",
    "\n",
    "        Résume les points importants en quelques phrases.\n",
    "        \"\"\"\n",
    "        try:\n",
    "            summaries.append(summarize(prompt))\n",
    "        except Exception as e:\n",
    "            print(f\"❌ Erreur batch avec {company_name}: {e}\")\n",
    "            continue\n",
    "\n",
    "    full_summary = \"\\n\\n\".join(summaries)\n",
    "\n",
    "    # Prompt final global\n",
    "    global_prompt = f\"\"\"\n",
    "    Tu es un assistant d'analyse d'avis pour des traiteurs de mariage.\n",
    "\n",
    "    Voici les résumés intermédiaires des avis pour le traiteur **{company_name}** :\n",
    "\n",
    "    {full_summary}\n",
    "\n",
    "    1. Fais un résumé synthétique global des avis.\n",
    "    2. Détaille les points majeurs évoqués (forces, faiblesses, répétitions...).\n",
    "    3. Attribue un score global subjectif sur 100 basé sur la qualité perçue.\n",
    "\n",
    "    Donne la réponse structurée comme ceci :\n",
    "    Résumé : ...\n",
    "    Points clés : ...\n",
    "    Score global : ...\n",
    "    \"\"\"\n",
    "\n",
    "    try:\n",
    "        result = summarize(global_prompt)\n",
    "        parts = result.split(\"Score global :\")\n",
    "        if len(parts) == 2:\n",
    "            core, score = parts\n",
    "            summary_part, key_points_part = core.split(\"Points clés :\", 1)\n",
    "            data.at[i, \"summary\"] = summary_part.replace(\"Résumé :\", \"\").strip()\n",
    "            data.at[i, \"key_points\"] = key_points_part.strip()\n",
    "            data.at[i, \"global_score\"] = score.strip()\n",
    "        else:\n",
    "            data.at[i, \"summary\"] = result.strip()\n",
    "    except Exception as e:\n",
    "        print(f\"❌ Erreur analyse finale avec {company_name}: {e}\")\n",
    "        continue"
   ]
  },
  {
   "cell_type": "code",
   "execution_count": 8,
   "id": "2ece90e8",
   "metadata": {},
   "outputs": [
    {
     "name": "stdout",
     "output_type": "stream",
     "text": [
      "✅ Résumés sauvegardés.\n"
     ]
    }
   ],
   "source": [
    "# Sauvegarde\n",
    "data.to_json(\"../data/catering_reviews_summary.json\", orient=\"records\", force_ascii=False, indent=2)\n",
    "print(\"✅ Résumés sauvegardés.\")"
   ]
  }
 ],
 "metadata": {
  "kernelspec": {
   "display_name": "ai-wedder",
   "language": "python",
   "name": "python3"
  },
  "language_info": {
   "codemirror_mode": {
    "name": "ipython",
    "version": 3
   },
   "file_extension": ".py",
   "mimetype": "text/x-python",
   "name": "python",
   "nbconvert_exporter": "python",
   "pygments_lexer": "ipython3",
   "version": "3.13.5"
  }
 },
 "nbformat": 4,
 "nbformat_minor": 5
}
