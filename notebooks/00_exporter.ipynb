{
 "cells": [
  {
   "cell_type": "markdown",
   "id": "8d05bfb7",
   "metadata": {},
   "source": [
    "# Connection to DB + Data export"
   ]
  },
  {
   "cell_type": "code",
   "execution_count": 1,
   "id": "a334a650",
   "metadata": {},
   "outputs": [],
   "source": [
    "# Récupération variable enrionnement\n",
    "from dotenv import load_dotenv\n",
    "import os\n",
    "\n",
    "load_dotenv()  # charge le .env automatiquement\n",
    "MONGODB_URI = os.getenv(\"MONGODB_URI\")\n",
    "\n",
    "if not MONGODB_URI:\n",
    "    raise ValueError(\"MONGODB_URI is not set in the environment variables.\")"
   ]
  },
  {
   "cell_type": "code",
   "execution_count": 2,
   "id": "8585115e",
   "metadata": {},
   "outputs": [
    {
     "name": "stdout",
     "output_type": "stream",
     "text": [
      "Connected to DB\n"
     ]
    }
   ],
   "source": [
    "from pymongo import MongoClient\n",
    "\n",
    "client = MongoClient(MONGODB_URI)\n",
    "\n",
    "if client is not None:\n",
    "    print(\"Connected to DB\")\n",
    "else:\n",
    "    print(\"Failed to connect to DB\")"
   ]
  },
  {
   "cell_type": "code",
   "execution_count": 3,
   "id": "c352ccb9",
   "metadata": {},
   "outputs": [
    {
     "name": "stdout",
     "output_type": "stream",
     "text": [
      "Successfully connected to : ai-wedder\n"
     ]
    }
   ],
   "source": [
    "# Base de données\n",
    "db = client[\"ai-wedder\"]\n",
    "\n",
    "print(\"Successfully connected to :\", db.name)"
   ]
  },
  {
   "cell_type": "markdown",
   "id": "a2d7e3e4",
   "metadata": {},
   "source": [
    "### Chargement des datas"
   ]
  },
  {
   "cell_type": "code",
   "execution_count": 4,
   "id": "6ac50103",
   "metadata": {},
   "outputs": [],
   "source": [
    "# Modèle cible\n",
    "Review = db[\"reviews\"]\n",
    "\n",
    "# Récupération des données\n",
    "reviews = Review.aggregate([\n",
    "    {\n",
    "        \"$lookup\": {\n",
    "            \"from\": \"venues\",\n",
    "            \"localField\": \"venue\",\n",
    "            \"foreignField\": \"_id\",\n",
    "            \"as\": \"venues\"\n",
    "        }\n",
    "    },\n",
    "    {\n",
    "        \"$addFields\": {\n",
    "            \"company_id\": { \"$first\": \"$venues._id\" },\n",
    "            \"company_name\": { \"$first\": \"$venues.name\" }\n",
    "        }\n",
    "    },\n",
    "    {\n",
    "        \"$project\": {\n",
    "            \"_id\": 0,\n",
    "            \"venue\": 0,\n",
    "            \"venues\": 0,\n",
    "            \"__v\": 0,\n",
    "            \"createdAt\": 0,\n",
    "            \"updatedAt\": 0\n",
    "        }\n",
    "    },\n",
    "    {\n",
    "      \"$addFields\": {\n",
    "        \"company_id\": {\n",
    "          \"$toString\": \"$company_id\"\n",
    "        }\n",
    "      }\n",
    "    }\n",
    "])\n",
    "\n",
    "reviews_list = list(reviews)"
   ]
  },
  {
   "cell_type": "code",
   "execution_count": 5,
   "id": "6ef62b6d",
   "metadata": {},
   "outputs": [
    {
     "name": "stdout",
     "output_type": "stream",
     "text": [
      "✅ Export done : ../data/catering_reviews.csv\n"
     ]
    }
   ],
   "source": [
    "import pandas as pd\n",
    "\n",
    "# Transformation en DF\n",
    "for review in reviews_list:\n",
    "    review.pop('_id', None)\n",
    "\n",
    "# Conversion en DataFrame\n",
    "df = pd.DataFrame(reviews_list)\n",
    "\n",
    "# Création du dossier d'export\n",
    "output_dir = \"../data\"\n",
    "os.makedirs(output_dir, exist_ok=True)\n",
    "\n",
    "# Sauvegarde en CSV\n",
    "csv_path = os.path.join(output_dir, \"catering_reviews.csv\")\n",
    "df.to_csv(csv_path, index=False)\n",
    "\n",
    "print(f\"✅ Export done : {csv_path}\")"
   ]
  }
 ],
 "metadata": {
  "kernelspec": {
   "display_name": "ai-wedder",
   "language": "python",
   "name": "python3"
  },
  "language_info": {
   "codemirror_mode": {
    "name": "ipython",
    "version": 3
   },
   "file_extension": ".py",
   "mimetype": "text/x-python",
   "name": "python",
   "nbconvert_exporter": "python",
   "pygments_lexer": "ipython3",
   "version": "3.13.5"
  }
 },
 "nbformat": 4,
 "nbformat_minor": 5
}
