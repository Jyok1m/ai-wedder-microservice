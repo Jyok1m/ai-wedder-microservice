{
 "cells": [
  {
   "cell_type": "markdown",
   "id": "3b959126",
   "metadata": {},
   "source": [
    "# Classifier"
   ]
  },
  {
   "cell_type": "markdown",
   "id": "8a099ef0",
   "metadata": {},
   "source": [
    "### Import dataset"
   ]
  },
  {
   "cell_type": "code",
   "execution_count": 1,
   "id": "ad748c30",
   "metadata": {},
   "outputs": [
    {
     "name": "stdout",
     "output_type": "stream",
     "text": [
      "Processed Data:\n",
      "     author  rating                                               text  \\\n",
      "0   Estelle     5.0  Monsieur M a surpassé toutes nos attentes lors...   \n",
      "1  Patricia     5.0  Nous recommandons vivement les services de Mon...   \n",
      "2     Julie     4.8  Un grand merci à Camille et à toute l’équipe d...   \n",
      "3  Amandine     5.0  L’équipe était très professionnel, souriante e...   \n",
      "4  Mathilde     5.0  Accompagnement en amont, prestation le jour J,...   \n",
      "\n",
      "         date sentiment        source                company_id company_name  \n",
      "0  2024-04-11  positive  mariages.net  6852d3d474c91954046c1cdb   Monsieur M  \n",
      "1  2025-05-25  positive  mariages.net  6852d3d474c91954046c1cdb   Monsieur M  \n",
      "2  2024-12-10  positive  mariages.net  6852d3d474c91954046c1cdb   Monsieur M  \n",
      "3  2024-11-09  positive  mariages.net  6852d3d474c91954046c1cdb   Monsieur M  \n",
      "4  2025-02-02  positive  mariages.net  6852d3d474c91954046c1cdb   Monsieur M  \n"
     ]
    }
   ],
   "source": [
    "import pandas as pd\n",
    "\n",
    "file_path = \"../data/catering_reviews.csv\"\n",
    "data = pd.read_csv(file_path)\n",
    "\n",
    "if data is not None:\n",
    "    print(\"Processed Data:\")\n",
    "    print(data.head())\n",
    "else:\n",
    "    print(\"No data to process.\")"
   ]
  },
  {
   "cell_type": "markdown",
   "id": "2317236a",
   "metadata": {},
   "source": [
    "### Clean dataset"
   ]
  },
  {
   "cell_type": "code",
   "execution_count": 2,
   "id": "a18f4811",
   "metadata": {},
   "outputs": [
    {
     "name": "stdout",
     "output_type": "stream",
     "text": [
      "label\n",
      "2    4338\n",
      "0      44\n",
      "1      24\n",
      "Name: count, dtype: int64\n",
      "                                                text sentiment  label\n",
      "0  Monsieur M a surpassé toutes nos attentes lors...  positive      2\n",
      "1  Nous recommandons vivement les services de Mon...  positive      2\n",
      "2  Un grand merci à Camille et à toute l’équipe d...  positive      2\n",
      "3  L’équipe était très professionnel, souriante e...  positive      2\n",
      "4  Accompagnement en amont, prestation le jour J,...  positive      2\n"
     ]
    }
   ],
   "source": [
    "df = data[[\"text\", \"sentiment\"]].dropna()\n",
    "\n",
    "# Mapping label\n",
    "label2id = {\"negative\": 0, \"neutral\": 1, \"positive\": 2}\n",
    "id2label = {v: k for k, v in label2id.items()}\n",
    "\n",
    "# Apply mapping\n",
    "df[\"label\"] = df[\"sentiment\"].map(label2id)\n",
    "\n",
    "# Supprimer NaN dans les lables\n",
    "df = df.dropna(subset=[\"label\"])\n",
    "\n",
    "# Convert label to int64\n",
    "df[\"label\"] = df[\"label\"].astype(\"int64\")\n",
    "\n",
    "print(df[\"label\"].value_counts())\n",
    "print(df.head())"
   ]
  },
  {
   "cell_type": "markdown",
   "id": "adf2fd88",
   "metadata": {},
   "source": [
    "### Over + Under sampling"
   ]
  },
  {
   "cell_type": "code",
   "execution_count": 3,
   "id": "cb6992c0",
   "metadata": {},
   "outputs": [
    {
     "name": "stdout",
     "output_type": "stream",
     "text": [
      "label\n",
      "0    132\n",
      "2    100\n",
      "1     96\n",
      "Name: count, dtype: int64\n"
     ]
    }
   ],
   "source": [
    "# Less majority class\n",
    "df_pos = df[df[\"label\"] == 2].sample(n=100, random_state=42)  # réduit les positives\n",
    "df_neg = df[df[\"label\"] == 0]\n",
    "df_neu = df[df[\"label\"] == 1]\n",
    "\n",
    "# More minority classes\n",
    "df_neg_oversampled = pd.concat([df_neg] * 3, ignore_index=True)\n",
    "df_neu_oversampled = pd.concat([df_neu] * 4, ignore_index=True)\n",
    "\n",
    "# Final balanced dataset\n",
    "df_balanced = pd.concat([df_pos, df_neg_oversampled, df_neu_oversampled], ignore_index=True)\n",
    "\n",
    "print(df_balanced[\"label\"].value_counts())"
   ]
  },
  {
   "cell_type": "markdown",
   "id": "35989db1",
   "metadata": {},
   "source": [
    "### Convert df to hugging face format"
   ]
  },
  {
   "cell_type": "code",
   "execution_count": 4,
   "id": "8d2c972c",
   "metadata": {},
   "outputs": [],
   "source": [
    "from datasets import Dataset\n",
    "\n",
    "# On encode the DataFrame to a Hugging Face Dataset\n",
    "dataset = Dataset.from_pandas(df_balanced[[\"text\", \"label\"]])\n",
    "\n",
    "# On split le hugging face dataset into train and test sets\n",
    "tt_split = dataset.train_test_split(test_size=0.2, seed=42)"
   ]
  },
  {
   "cell_type": "markdown",
   "id": "e330d709",
   "metadata": {},
   "source": [
    "### Tokenizze avec CamemBERT"
   ]
  },
  {
   "cell_type": "code",
   "execution_count": 6,
   "id": "3139bede",
   "metadata": {},
   "outputs": [
    {
     "data": {
      "application/vnd.jupyter.widget-view+json": {
       "model_id": "958f6bb5e6c348d791fa3dae2c595bc8",
       "version_major": 2,
       "version_minor": 0
      },
      "text/plain": [
       "Map:   0%|          | 0/262 [00:00<?, ? examples/s]"
      ]
     },
     "metadata": {},
     "output_type": "display_data"
    },
    {
     "data": {
      "application/vnd.jupyter.widget-view+json": {
       "model_id": "a815cf5a71744eb790dc429a74d852ac",
       "version_major": 2,
       "version_minor": 0
      },
      "text/plain": [
       "Map:   0%|          | 0/66 [00:00<?, ? examples/s]"
      ]
     },
     "metadata": {},
     "output_type": "display_data"
    }
   ],
   "source": [
    "from transformers import CamembertTokenizer\n",
    "\n",
    "tokenizer = CamembertTokenizer.from_pretrained(\"camembert-base\")\n",
    "\n",
    "def tokenize(data):\n",
    "    return tokenizer(data[\"text\"], truncation=True, padding=\"max_length\", max_length=128)\n",
    "\n",
    "tokenized_split = tt_split.map(tokenize, batched=True)"
   ]
  },
  {
   "cell_type": "markdown",
   "id": "deaf194e",
   "metadata": {},
   "source": [
    "### Classifier"
   ]
  },
  {
   "cell_type": "markdown",
   "id": "6178fb99",
   "metadata": {},
   "source": [
    "- I am using a pretrained CamemBERT model.\n",
    "- The type of model is camembert-base."
   ]
  },
  {
   "cell_type": "code",
   "execution_count": 7,
   "id": "573fcda3",
   "metadata": {},
   "outputs": [
    {
     "name": "stderr",
     "output_type": "stream",
     "text": [
      "Some weights of CamembertForSequenceClassification were not initialized from the model checkpoint at camembert-base and are newly initialized: ['classifier.dense.bias', 'classifier.dense.weight', 'classifier.out_proj.bias', 'classifier.out_proj.weight']\n",
      "You should probably TRAIN this model on a down-stream task to be able to use it for predictions and inference.\n"
     ]
    }
   ],
   "source": [
    "from transformers import CamembertForSequenceClassification\n",
    "\n",
    "model = CamembertForSequenceClassification.from_pretrained(\n",
    "    \"camembert-base\",\n",
    "    num_labels=3,\n",
    "    id2label=id2label,\n",
    "    label2id=label2id\n",
    ")"
   ]
  },
  {
   "cell_type": "markdown",
   "id": "74c48d5f",
   "metadata": {},
   "source": [
    "### Create the trainer"
   ]
  },
  {
   "cell_type": "markdown",
   "id": "e7872bfd",
   "metadata": {},
   "source": [
    "- Here, I am building the trainer.\n",
    "- I am using the `TrainingArguments` class to set the training parameters. This will be my base configuration. I will try to fine-tune it later.\n",
    "- I am using the `Trainer` class to create the trainer.\n",
    "- Then, I train."
   ]
  },
  {
   "cell_type": "code",
   "execution_count": 9,
   "id": "257057bb",
   "metadata": {},
   "outputs": [
    {
     "name": "stderr",
     "output_type": "stream",
     "text": [
      "/var/folders/pl/z799lglj00b41cclm26nwxmh0000gn/T/ipykernel_95164/980407266.py:24: FutureWarning: `tokenizer` is deprecated and will be removed in version 5.0.0 for `Trainer.__init__`. Use `processing_class` instead.\n",
      "  trainer = Trainer(\n"
     ]
    },
    {
     "data": {
      "text/html": [
       "\n",
       "    <div>\n",
       "      \n",
       "      <progress value='660' max='660' style='width:300px; height:20px; vertical-align: middle;'></progress>\n",
       "      [660/660 03:48, Epoch 20/20]\n",
       "    </div>\n",
       "    <table border=\"1\" class=\"dataframe\">\n",
       "  <thead>\n",
       " <tr style=\"text-align: left;\">\n",
       "      <th>Epoch</th>\n",
       "      <th>Training Loss</th>\n",
       "      <th>Validation Loss</th>\n",
       "      <th>Accuracy</th>\n",
       "    </tr>\n",
       "  </thead>\n",
       "  <tbody>\n",
       "    <tr>\n",
       "      <td>1</td>\n",
       "      <td>0.017300</td>\n",
       "      <td>0.080466</td>\n",
       "      <td>0.984848</td>\n",
       "    </tr>\n",
       "    <tr>\n",
       "      <td>2</td>\n",
       "      <td>0.006600</td>\n",
       "      <td>0.094989</td>\n",
       "      <td>0.984848</td>\n",
       "    </tr>\n",
       "    <tr>\n",
       "      <td>3</td>\n",
       "      <td>0.002500</td>\n",
       "      <td>0.098637</td>\n",
       "      <td>0.984848</td>\n",
       "    </tr>\n",
       "    <tr>\n",
       "      <td>4</td>\n",
       "      <td>0.001500</td>\n",
       "      <td>0.109658</td>\n",
       "      <td>0.984848</td>\n",
       "    </tr>\n",
       "    <tr>\n",
       "      <td>5</td>\n",
       "      <td>0.001000</td>\n",
       "      <td>0.115962</td>\n",
       "      <td>0.984848</td>\n",
       "    </tr>\n",
       "    <tr>\n",
       "      <td>6</td>\n",
       "      <td>0.000800</td>\n",
       "      <td>0.111631</td>\n",
       "      <td>0.984848</td>\n",
       "    </tr>\n",
       "    <tr>\n",
       "      <td>7</td>\n",
       "      <td>0.000600</td>\n",
       "      <td>0.113529</td>\n",
       "      <td>0.984848</td>\n",
       "    </tr>\n",
       "    <tr>\n",
       "      <td>8</td>\n",
       "      <td>0.000500</td>\n",
       "      <td>0.113039</td>\n",
       "      <td>0.984848</td>\n",
       "    </tr>\n",
       "    <tr>\n",
       "      <td>9</td>\n",
       "      <td>0.000400</td>\n",
       "      <td>0.110619</td>\n",
       "      <td>0.984848</td>\n",
       "    </tr>\n",
       "    <tr>\n",
       "      <td>10</td>\n",
       "      <td>0.000400</td>\n",
       "      <td>0.111044</td>\n",
       "      <td>0.984848</td>\n",
       "    </tr>\n",
       "    <tr>\n",
       "      <td>11</td>\n",
       "      <td>0.000400</td>\n",
       "      <td>0.110042</td>\n",
       "      <td>0.984848</td>\n",
       "    </tr>\n",
       "    <tr>\n",
       "      <td>12</td>\n",
       "      <td>0.000300</td>\n",
       "      <td>0.111203</td>\n",
       "      <td>0.984848</td>\n",
       "    </tr>\n",
       "    <tr>\n",
       "      <td>13</td>\n",
       "      <td>0.000300</td>\n",
       "      <td>0.108080</td>\n",
       "      <td>0.984848</td>\n",
       "    </tr>\n",
       "    <tr>\n",
       "      <td>14</td>\n",
       "      <td>0.000300</td>\n",
       "      <td>0.115382</td>\n",
       "      <td>0.984848</td>\n",
       "    </tr>\n",
       "    <tr>\n",
       "      <td>15</td>\n",
       "      <td>0.000300</td>\n",
       "      <td>0.114959</td>\n",
       "      <td>0.984848</td>\n",
       "    </tr>\n",
       "    <tr>\n",
       "      <td>16</td>\n",
       "      <td>0.000200</td>\n",
       "      <td>0.113180</td>\n",
       "      <td>0.984848</td>\n",
       "    </tr>\n",
       "    <tr>\n",
       "      <td>17</td>\n",
       "      <td>0.000200</td>\n",
       "      <td>0.112678</td>\n",
       "      <td>0.984848</td>\n",
       "    </tr>\n",
       "    <tr>\n",
       "      <td>18</td>\n",
       "      <td>0.000200</td>\n",
       "      <td>0.113274</td>\n",
       "      <td>0.984848</td>\n",
       "    </tr>\n",
       "    <tr>\n",
       "      <td>19</td>\n",
       "      <td>0.000200</td>\n",
       "      <td>0.112692</td>\n",
       "      <td>0.984848</td>\n",
       "    </tr>\n",
       "    <tr>\n",
       "      <td>20</td>\n",
       "      <td>0.000200</td>\n",
       "      <td>0.112181</td>\n",
       "      <td>0.984848</td>\n",
       "    </tr>\n",
       "  </tbody>\n",
       "</table><p>"
      ],
      "text/plain": [
       "<IPython.core.display.HTML object>"
      ]
     },
     "metadata": {},
     "output_type": "display_data"
    },
    {
     "name": "stderr",
     "output_type": "stream",
     "text": [
      "/Users/joachimjasmin/miniconda3/envs/ai-wedder/lib/python3.13/site-packages/torch/utils/data/dataloader.py:683: UserWarning: 'pin_memory' argument is set as true but not supported on MPS now, then device pinned memory won't be used.\n",
      "  warnings.warn(warn_msg)\n",
      "/Users/joachimjasmin/miniconda3/envs/ai-wedder/lib/python3.13/site-packages/torch/utils/data/dataloader.py:683: UserWarning: 'pin_memory' argument is set as true but not supported on MPS now, then device pinned memory won't be used.\n",
      "  warnings.warn(warn_msg)\n",
      "/Users/joachimjasmin/miniconda3/envs/ai-wedder/lib/python3.13/site-packages/torch/utils/data/dataloader.py:683: UserWarning: 'pin_memory' argument is set as true but not supported on MPS now, then device pinned memory won't be used.\n",
      "  warnings.warn(warn_msg)\n",
      "/Users/joachimjasmin/miniconda3/envs/ai-wedder/lib/python3.13/site-packages/torch/utils/data/dataloader.py:683: UserWarning: 'pin_memory' argument is set as true but not supported on MPS now, then device pinned memory won't be used.\n",
      "  warnings.warn(warn_msg)\n",
      "/Users/joachimjasmin/miniconda3/envs/ai-wedder/lib/python3.13/site-packages/torch/utils/data/dataloader.py:683: UserWarning: 'pin_memory' argument is set as true but not supported on MPS now, then device pinned memory won't be used.\n",
      "  warnings.warn(warn_msg)\n",
      "/Users/joachimjasmin/miniconda3/envs/ai-wedder/lib/python3.13/site-packages/torch/utils/data/dataloader.py:683: UserWarning: 'pin_memory' argument is set as true but not supported on MPS now, then device pinned memory won't be used.\n",
      "  warnings.warn(warn_msg)\n",
      "/Users/joachimjasmin/miniconda3/envs/ai-wedder/lib/python3.13/site-packages/torch/utils/data/dataloader.py:683: UserWarning: 'pin_memory' argument is set as true but not supported on MPS now, then device pinned memory won't be used.\n",
      "  warnings.warn(warn_msg)\n",
      "/Users/joachimjasmin/miniconda3/envs/ai-wedder/lib/python3.13/site-packages/torch/utils/data/dataloader.py:683: UserWarning: 'pin_memory' argument is set as true but not supported on MPS now, then device pinned memory won't be used.\n",
      "  warnings.warn(warn_msg)\n",
      "/Users/joachimjasmin/miniconda3/envs/ai-wedder/lib/python3.13/site-packages/torch/utils/data/dataloader.py:683: UserWarning: 'pin_memory' argument is set as true but not supported on MPS now, then device pinned memory won't be used.\n",
      "  warnings.warn(warn_msg)\n",
      "/Users/joachimjasmin/miniconda3/envs/ai-wedder/lib/python3.13/site-packages/torch/utils/data/dataloader.py:683: UserWarning: 'pin_memory' argument is set as true but not supported on MPS now, then device pinned memory won't be used.\n",
      "  warnings.warn(warn_msg)\n",
      "/Users/joachimjasmin/miniconda3/envs/ai-wedder/lib/python3.13/site-packages/torch/utils/data/dataloader.py:683: UserWarning: 'pin_memory' argument is set as true but not supported on MPS now, then device pinned memory won't be used.\n",
      "  warnings.warn(warn_msg)\n",
      "/Users/joachimjasmin/miniconda3/envs/ai-wedder/lib/python3.13/site-packages/torch/utils/data/dataloader.py:683: UserWarning: 'pin_memory' argument is set as true but not supported on MPS now, then device pinned memory won't be used.\n",
      "  warnings.warn(warn_msg)\n",
      "/Users/joachimjasmin/miniconda3/envs/ai-wedder/lib/python3.13/site-packages/torch/utils/data/dataloader.py:683: UserWarning: 'pin_memory' argument is set as true but not supported on MPS now, then device pinned memory won't be used.\n",
      "  warnings.warn(warn_msg)\n",
      "/Users/joachimjasmin/miniconda3/envs/ai-wedder/lib/python3.13/site-packages/torch/utils/data/dataloader.py:683: UserWarning: 'pin_memory' argument is set as true but not supported on MPS now, then device pinned memory won't be used.\n",
      "  warnings.warn(warn_msg)\n",
      "/Users/joachimjasmin/miniconda3/envs/ai-wedder/lib/python3.13/site-packages/torch/utils/data/dataloader.py:683: UserWarning: 'pin_memory' argument is set as true but not supported on MPS now, then device pinned memory won't be used.\n",
      "  warnings.warn(warn_msg)\n",
      "/Users/joachimjasmin/miniconda3/envs/ai-wedder/lib/python3.13/site-packages/torch/utils/data/dataloader.py:683: UserWarning: 'pin_memory' argument is set as true but not supported on MPS now, then device pinned memory won't be used.\n",
      "  warnings.warn(warn_msg)\n",
      "/Users/joachimjasmin/miniconda3/envs/ai-wedder/lib/python3.13/site-packages/torch/utils/data/dataloader.py:683: UserWarning: 'pin_memory' argument is set as true but not supported on MPS now, then device pinned memory won't be used.\n",
      "  warnings.warn(warn_msg)\n",
      "/Users/joachimjasmin/miniconda3/envs/ai-wedder/lib/python3.13/site-packages/torch/utils/data/dataloader.py:683: UserWarning: 'pin_memory' argument is set as true but not supported on MPS now, then device pinned memory won't be used.\n",
      "  warnings.warn(warn_msg)\n",
      "/Users/joachimjasmin/miniconda3/envs/ai-wedder/lib/python3.13/site-packages/torch/utils/data/dataloader.py:683: UserWarning: 'pin_memory' argument is set as true but not supported on MPS now, then device pinned memory won't be used.\n",
      "  warnings.warn(warn_msg)\n"
     ]
    },
    {
     "data": {
      "text/plain": [
       "TrainOutput(global_step=660, training_loss=0.0017172312857865384, metrics={'train_runtime': 229.0162, 'train_samples_per_second': 22.88, 'train_steps_per_second': 2.882, 'total_flos': 344678577223680.0, 'train_loss': 0.0017172312857865384, 'epoch': 20.0})"
      ]
     },
     "execution_count": 9,
     "metadata": {},
     "output_type": "execute_result"
    }
   ],
   "source": [
    "from transformers import TrainingArguments, Trainer\n",
    "import numpy as np\n",
    "\n",
    "def compute_metrics(p):\n",
    "    preds = np.argmax(p.predictions, axis=1)\n",
    "    return {\n",
    "        \"accuracy\": (preds == p.label_ids).mean(),\n",
    "    }\n",
    "\n",
    "training_args = TrainingArguments(\n",
    "    output_dir=\"../models/camembert_sentiment\",\n",
    "    eval_strategy=\"epoch\",\n",
    "    logging_strategy=\"epoch\",\n",
    "    save_strategy=\"epoch\",\n",
    "    num_train_epochs=20,\n",
    "    per_device_train_batch_size=8,\n",
    "    per_device_eval_batch_size=8,\n",
    "    warmup_steps=50,\n",
    "    weight_decay=0.01,\n",
    "    #logging_dir=\"../logs\",\n",
    "    load_best_model_at_end=True,\n",
    ")\n",
    "\n",
    "trainer = Trainer(\n",
    "    model=model,\n",
    "    args=training_args,\n",
    "    train_dataset=tokenized_split[\"train\"],\n",
    "    eval_dataset=tokenized_split[\"test\"],\n",
    "    tokenizer=tokenizer,\n",
    "    compute_metrics=compute_metrics\n",
    ")\n",
    "\n",
    "trainer.train()"
   ]
  },
  {
   "cell_type": "markdown",
   "id": "e55b1604",
   "metadata": {},
   "source": [
    "### Vérification"
   ]
  },
  {
   "cell_type": "code",
   "execution_count": 10,
   "id": "7230504a",
   "metadata": {},
   "outputs": [
    {
     "name": "stderr",
     "output_type": "stream",
     "text": [
      "/Users/joachimjasmin/miniconda3/envs/ai-wedder/lib/python3.13/site-packages/torch/utils/data/dataloader.py:683: UserWarning: 'pin_memory' argument is set as true but not supported on MPS now, then device pinned memory won't be used.\n",
      "  warnings.warn(warn_msg)\n"
     ]
    },
    {
     "data": {
      "text/html": [],
      "text/plain": [
       "<IPython.core.display.HTML object>"
      ]
     },
     "metadata": {},
     "output_type": "display_data"
    }
   ],
   "source": [
    "preds_output = trainer.predict(tokenized_split[\"test\"])"
   ]
  },
  {
   "cell_type": "markdown",
   "id": "c74b37f1",
   "metadata": {},
   "source": [
    "### Récupération des lables"
   ]
  },
  {
   "cell_type": "code",
   "execution_count": 11,
   "id": "d4676a22",
   "metadata": {},
   "outputs": [],
   "source": [
    "import numpy as np\n",
    "\n",
    "y_pred = np.argmax(preds_output.predictions, axis=1)\n",
    "\n",
    "# True labels\n",
    "y_true = preds_output.label_ids"
   ]
  },
  {
   "cell_type": "markdown",
   "id": "4f04114f",
   "metadata": {},
   "source": [
    "### Confusion Matrix"
   ]
  },
  {
   "cell_type": "code",
   "execution_count": 12,
   "id": "ac1b1c32",
   "metadata": {},
   "outputs": [
    {
     "data": {
      "text/plain": [
       "<Figure size 600x600 with 0 Axes>"
      ]
     },
     "metadata": {},
     "output_type": "display_data"
    },
    {
     "data": {
      "image/png": "[encoded data removed]",
      "text/plain": [
       "<Figure size 640x480 with 2 Axes>"
      ]
     },
     "metadata": {},
     "output_type": "display_data"
    }
   ],
   "source": [
    "from sklearn.metrics import confusion_matrix, ConfusionMatrixDisplay\n",
    "import matplotlib.pyplot as plt\n",
    "\n",
    "labels = [\"negative\", \"neutral\", \"positive\"]\n",
    "\n",
    "cm = confusion_matrix(y_true, y_pred)\n",
    "disp = ConfusionMatrixDisplay(confusion_matrix=cm, display_labels=labels)\n",
    "\n",
    "plt.figure(figsize=(6, 6))\n",
    "disp.plot(cmap=\"Blues\", values_format='d')\n",
    "plt.title(\"Confusion Matrix - CamemBERT Wedder NPS Classifier\")\n",
    "plt.show()"
   ]
  },
  {
   "cell_type": "code",
   "execution_count": 13,
   "id": "7897b5b8",
   "metadata": {},
   "outputs": [
    {
     "name": "stdout",
     "output_type": "stream",
     "text": [
      "              precision    recall  f1-score   support\n",
      "\n",
      "    negative       1.00      1.00      1.00        20\n",
      "     neutral       0.96      1.00      0.98        26\n",
      "    positive       1.00      0.95      0.97        20\n",
      "\n",
      "    accuracy                           0.98        66\n",
      "   macro avg       0.99      0.98      0.99        66\n",
      "weighted avg       0.99      0.98      0.98        66\n",
      "\n"
     ]
    }
   ],
   "source": [
    "from sklearn.metrics import classification_report\n",
    "print(classification_report(y_true, y_pred, target_names=labels))"
   ]
  },
  {
   "cell_type": "markdown",
   "id": "2fd0872c",
   "metadata": {},
   "source": [
    "### Save model lacally (gitignored)"
   ]
  },
  {
   "cell_type": "code",
   "execution_count": 14,
   "id": "9504416f",
   "metadata": {},
   "outputs": [
    {
     "data": {
      "text/plain": [
       "('../models/camembert_wedder_nps_classifier/tokenizer_config.json',\n",
       " '../models/camembert_wedder_nps_classifier/special_tokens_map.json',\n",
       " '../models/camembert_wedder_nps_classifier/sentencepiece.bpe.model',\n",
       " '../models/camembert_wedder_nps_classifier/added_tokens.json')"
      ]
     },
     "execution_count": 14,
     "metadata": {},
     "output_type": "execute_result"
    }
   ],
   "source": [
    "trainer.save_model(\"../models/camembert_wedder_nps_classifier\")\n",
    "tokenizer.save_pretrained(\"../models/camembert_wedder_nps_classifier\")"
   ]
  },
  {
   "cell_type": "markdown",
   "id": "ddf1d2fa",
   "metadata": {},
   "source": [
    "### Save model to HF Hub"
   ]
  },
  {
   "cell_type": "code",
   "execution_count": 15,
   "id": "426bf09e",
   "metadata": {},
   "outputs": [],
   "source": [
    "# Reload\n",
    "model = CamembertForSequenceClassification.from_pretrained(\"../models/camembert_wedder_nps_classifier\")\n",
    "tokenizer = CamembertTokenizer.from_pretrained(\"../models/camembert_wedder_nps_classifier\")"
   ]
  },
  {
   "cell_type": "code",
   "execution_count": 24,
   "id": "5284c208",
   "metadata": {},
   "outputs": [
    {
     "data": {
      "application/vnd.jupyter.widget-view+json": {
       "model_id": "0110fe57f71342d599c58754959dae3b",
       "version_major": 2,
       "version_minor": 0
      },
      "text/plain": [
       "model.safetensors:   0%|          | 0.00/443M [00:00<?, ?B/s]"
      ]
     },
     "metadata": {},
     "output_type": "display_data"
    },
    {
     "data": {
      "application/vnd.jupyter.widget-view+json": {
       "model_id": "099d83b00a834cfaa8161ce351693f92",
       "version_major": 2,
       "version_minor": 0
      },
      "text/plain": [
       "README.md:   0%|          | 0.00/5.17k [00:00<?, ?B/s]"
      ]
     },
     "metadata": {},
     "output_type": "display_data"
    },
    {
     "data": {
      "application/vnd.jupyter.widget-view+json": {
       "model_id": "c64ca9e68bd34fe1b2812b4ec14b64fc",
       "version_major": 2,
       "version_minor": 0
      },
      "text/plain": [
       "sentencepiece.bpe.model:   0%|          | 0.00/811k [00:00<?, ?B/s]"
      ]
     },
     "metadata": {},
     "output_type": "display_data"
    },
    {
     "data": {
      "text/plain": [
       "CommitInfo(commit_url='https://huggingface.co/Jyokim/camembert-wedder-nps-classifier/commit/732338b48b4e208c2e539136eeb2db965732ce2e', commit_message='Upload tokenizer', commit_description='', oid='732338b48b4e208c2e539136eeb2db965732ce2e', pr_url=None, repo_url=RepoUrl('https://huggingface.co/Jyokim/camembert-wedder-nps-classifier', endpoint='https://huggingface.co', repo_type='model', repo_id='Jyokim/camembert-wedder-nps-classifier'), pr_revision=None, pr_num=None)"
      ]
     },
     "execution_count": 24,
     "metadata": {},
     "output_type": "execute_result"
    }
   ],
   "source": [
    "# Push to Hugging Face Hub\n",
    "from dotenv import load_dotenv\n",
    "import os\n",
    "\n",
    "load_dotenv()\n",
    "HF_TOKEN = os.getenv(\"HF_TOKEN\")\n",
    "\n",
    "model.push_to_hub(\"Jyokim/camembert-wedder-nps-classifier\", use_auth_token=HF_TOKEN)\n",
    "tokenizer.push_to_hub(\"Jyokim/camembert-wedder-nps-classifier\", use_auth_token=HF_TOKEN)"
   ]
  },
  {
   "cell_type": "markdown",
   "id": "de494024",
   "metadata": {},
   "source": [
    "### Try model"
   ]
  },
  {
   "cell_type": "code",
   "execution_count": 26,
   "id": "2faabe42",
   "metadata": {},
   "outputs": [
    {
     "data": {
      "application/vnd.jupyter.widget-view+json": {
       "model_id": "5dfb6864136f4a888ab42b471a230901",
       "version_major": 2,
       "version_minor": 0
      },
      "text/plain": [
       "tokenizer_config.json:   0%|          | 0.00/1.81k [00:00<?, ?B/s]"
      ]
     },
     "metadata": {},
     "output_type": "display_data"
    },
    {
     "data": {
      "application/vnd.jupyter.widget-view+json": {
       "model_id": "db2d1aea1c6e42069c6d067fdf7089ca",
       "version_major": 2,
       "version_minor": 0
      },
      "text/plain": [
       "sentencepiece.bpe.model:   0%|          | 0.00/811k [00:00<?, ?B/s]"
      ]
     },
     "metadata": {},
     "output_type": "display_data"
    },
    {
     "data": {
      "application/vnd.jupyter.widget-view+json": {
       "model_id": "0a94007b882b4743b01e4e43e9ff822f",
       "version_major": 2,
       "version_minor": 0
      },
      "text/plain": [
       "added_tokens.json:   0%|          | 0.00/22.0 [00:00<?, ?B/s]"
      ]
     },
     "metadata": {},
     "output_type": "display_data"
    },
    {
     "data": {
      "application/vnd.jupyter.widget-view+json": {
       "model_id": "d9028626ef684e948bfe117e41600d25",
       "version_major": 2,
       "version_minor": 0
      },
      "text/plain": [
       "special_tokens_map.json:   0%|          | 0.00/1.06k [00:00<?, ?B/s]"
      ]
     },
     "metadata": {},
     "output_type": "display_data"
    },
    {
     "name": "stderr",
     "output_type": "stream",
     "text": [
      "Device set to use mps:0\n"
     ]
    },
    {
     "name": "stdout",
     "output_type": "stream",
     "text": [
      "[{'label': 'negative', 'score': 0.9616328477859497}]\n",
      "[{'label': 'positive', 'score': 0.9892773628234863}]\n",
      "[{'label': 'neutral', 'score': 0.9799679517745972}]\n",
      "[{'label': 'negative', 'score': 0.9840548634529114}]\n",
      "[{'label': 'neutral', 'score': 0.984420120716095}]\n",
      "[{'label': 'negative', 'score': 0.9931852221488953}]\n",
      "[{'label': 'negative', 'score': 0.9836894869804382}]\n",
      "[{'label': 'positive', 'score': 0.9908341765403748}]\n",
      "[{'label': 'neutral', 'score': 0.9882218241691589}]\n",
      "[{'label': 'negative', 'score': 0.9916757345199585}]\n",
      "[{'label': 'neutral', 'score': 0.9846189618110657}]\n",
      "[{'label': 'positive', 'score': 0.99041348695755}]\n",
      "[{'label': 'neutral', 'score': 0.9136963486671448}]\n"
     ]
    }
   ],
   "source": [
    "from transformers import pipeline\n",
    "\n",
    "pipe = pipeline(\"text-classification\", model=\"Jyokim/camembert-wedder-nps-classifier\", tokenizer=\"Jyokim/camembert-wedder-nps-classifier\")\n",
    "\n",
    "print(pipe(\"Le repas était excellent mais le service très lent.\"))\n",
    "print(pipe(\"J'ai tout adoré !\"))\n",
    "print(pipe(\"Je ne sais pas quoi en penser, c'était moyen.\"))\n",
    "print(pipe(\"C'était vraiment mauvais, je ne reviendrai pas.\"))\n",
    "print(pipe(\"Le repas était correct, sans plus.\"))\n",
    "print(pipe(\"Le dessert était délicieux, mais le plat principal était décevant.\"))\n",
    "print(pipe(\"Le service était impeccable, mais la nourriture était fade.\"))\n",
    "print(pipe(\"Une expérience culinaire inoubliable, je recommande vivement !\"))\n",
    "print(pipe(\"Le traiteur a fait un travail pas mal, mais il y a de la place pour l'amélioration.\"))\n",
    "print(pipe(\"Le repas était froid et le service désagréable.\"))\n",
    "print(pipe(\"C'était un repas ordinaire, rien de spécial.\"))\n",
    "print(pipe(\"Le repas était exceptionnel, un vrai régal pour les papilles !\"))\n",
    "print(pipe(\"Le service était rapide et efficace, mais la nourriture manquait de saveur.\"))"
   ]
  }
 ],
 "metadata": {
  "kernelspec": {
   "display_name": "ai-wedder",
   "language": "python",
   "name": "python3"
  },
  "language_info": {
   "codemirror_mode": {
    "name": "ipython",
    "version": 3
   },
   "file_extension": ".py",
   "mimetype": "text/x-python",
   "name": "python",
   "nbconvert_exporter": "python",
   "pygments_lexer": "ipython3",
   "version": "3.13.5"
  }
 },
 "nbformat": 4,
 "nbformat_minor": 5
}
