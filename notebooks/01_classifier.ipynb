{
 "cells": [
  {
   "cell_type": "markdown",
   "id": "3b959126",
   "metadata": {},
   "source": [
    "# Classifier"
   ]
  },
  {
   "cell_type": "markdown",
   "id": "8a099ef0",
   "metadata": {},
   "source": [
    "### Import dataset"
   ]
  },
  {
   "cell_type": "code",
   "execution_count": 6,
   "id": "ad748c30",
   "metadata": {},
   "outputs": [
    {
     "name": "stdout",
     "output_type": "stream",
     "text": [
      "Processed Data:\n",
      "     author  rating                                               text  \\\n",
      "0   Estelle     5.0  Monsieur M a surpassé toutes nos attentes lors...   \n",
      "1  Patricia     5.0  Nous recommandons vivement les services de Mon...   \n",
      "2     Julie     4.8  Un grand merci à Camille et à toute l’équipe d...   \n",
      "3  Amandine     5.0  L’équipe était très professionnel, souriante e...   \n",
      "4  Mathilde     5.0  Accompagnement en amont, prestation le jour J,...   \n",
      "\n",
      "         date sentiment        source                company_id company_name  \n",
      "0  2024-04-11  positive  mariages.net  6852d3d474c91954046c1cdb   Monsieur M  \n",
      "1  2025-05-25  positive  mariages.net  6852d3d474c91954046c1cdb   Monsieur M  \n",
      "2  2024-12-10  positive  mariages.net  6852d3d474c91954046c1cdb   Monsieur M  \n",
      "3  2024-11-09  positive  mariages.net  6852d3d474c91954046c1cdb   Monsieur M  \n",
      "4  2025-02-02  positive  mariages.net  6852d3d474c91954046c1cdb   Monsieur M  \n"
     ]
    }
   ],
   "source": [
    "import pandas as pd\n",
    "\n",
    "file_path = \"../data/catering_reviews.csv\"  # Replace with your actual file path\n",
    "data = pd.read_csv(file_path)\n",
    "\n",
    "if data is not None:\n",
    "    print(\"Processed Data:\")\n",
    "    print(data.head())\n",
    "else:\n",
    "    print(\"No data to process.\")"
   ]
  }
 ],
 "metadata": {
  "language_info": {
   "name": "python"
  }
 },
 "nbformat": 4,
 "nbformat_minor": 5
}
