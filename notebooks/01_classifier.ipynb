{
 "cells": [
  {
   "cell_type": "markdown",
   "id": "3b959126",
   "metadata": {},
   "source": [
    "# Classifier"
   ]
  },
  {
   "cell_type": "markdown",
   "id": "8a099ef0",
   "metadata": {},
   "source": [
    "### Import dataset"
   ]
  },
  {
   "cell_type": "code",
   "execution_count": null,
   "id": "ad748c30",
   "metadata": {},
   "outputs": [
    {
     "name": "stdout",
     "output_type": "stream",
     "text": [
      "Processed Data:\n",
      "     author  rating                                               text  \\\n",
      "0   Estelle     5.0  Monsieur M a surpassé toutes nos attentes lors...   \n",
      "1  Patricia     5.0  Nous recommandons vivement les services de Mon...   \n",
      "2     Julie     4.8  Un grand merci à Camille et à toute l’équipe d...   \n",
      "3  Amandine     5.0  L’équipe était très professionnel, souriante e...   \n",
      "4  Mathilde     5.0  Accompagnement en amont, prestation le jour J,...   \n",
      "\n",
      "         date sentiment        source                company_id company_name  \n",
      "0  2024-04-11  positive  mariages.net  6852d3d474c91954046c1cdb   Monsieur M  \n",
      "1  2025-05-25  positive  mariages.net  6852d3d474c91954046c1cdb   Monsieur M  \n",
      "2  2024-12-10  positive  mariages.net  6852d3d474c91954046c1cdb   Monsieur M  \n",
      "3  2024-11-09  positive  mariages.net  6852d3d474c91954046c1cdb   Monsieur M  \n",
      "4  2025-02-02  positive  mariages.net  6852d3d474c91954046c1cdb   Monsieur M  \n"
     ]
    }
   ],
   "source": [
    "import pandas as pd\n",
    "\n",
    "file_path = \"../data/catering_reviews.csv\"\n",
    "data = pd.read_csv(file_path)\n",
    "\n",
    "if data is not None:\n",
    "    print(\"Processed Data:\")\n",
    "    print(data.head())\n",
    "else:\n",
    "    print(\"No data to process.\")"
   ]
  },
  {
   "cell_type": "markdown",
   "id": "2317236a",
   "metadata": {},
   "source": [
    "### Clean dataset"
   ]
  },
  {
   "cell_type": "code",
   "execution_count": 7,
   "id": "a18f4811",
   "metadata": {},
   "outputs": [
    {
     "name": "stdout",
     "output_type": "stream",
     "text": [
      "                                                text sentiment  label\n",
      "0  Monsieur M a surpassé toutes nos attentes lors...  positive    2.0\n",
      "1  Nous recommandons vivement les services de Mon...  positive    2.0\n",
      "2  Un grand merci à Camille et à toute l’équipe d...  positive    2.0\n",
      "3  L’équipe était très professionnel, souriante e...  positive    2.0\n",
      "4  Accompagnement en amont, prestation le jour J,...  positive    2.0\n"
     ]
    }
   ],
   "source": [
    "# Keep only the 'text' and 'sentiment' columns and drop rows with NaN values\n",
    "df = data[[\"text\", \"sentiment\"]].dropna() \n",
    "\n",
    "# Encode the labels\n",
    "label2id = {\"negative\": 0, \"neutral\": 1, \"positive\": 2}\n",
    "id2label = {v: k for k, v in label2id.items()}\n",
    "df[\"label\"] = df[\"sentiment\"].map(label2id)\n",
    "\n",
    "print(df.head())"
   ]
  },
  {
   "cell_type": "markdown",
   "id": "35989db1",
   "metadata": {},
   "source": [
    "### Convert df to hugging face format"
   ]
  },
  {
   "cell_type": "code",
   "execution_count": 9,
   "id": "8d2c972c",
   "metadata": {},
   "outputs": [],
   "source": [
    "from datasets import Dataset\n",
    "\n",
    "# On encode the DataFrame to a Hugging Face Dataset\n",
    "dataset = Dataset.from_pandas(df[[\"text\", \"label\"]])\n",
    "\n",
    "# On split le hugging face dataset into train and test sets\n",
    "tt_split = dataset.train_test_split(test_size=0.2, seed=42)"
   ]
  }
 ],
 "metadata": {
  "language_info": {
   "name": "python"
  }
 },
 "nbformat": 4,
 "nbformat_minor": 5
}
