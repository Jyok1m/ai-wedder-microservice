{
 "cells": [
  {
   "cell_type": "markdown",
   "id": "8d05bfb7",
   "metadata": {},
   "source": [
    "# Connection to DB + Data export"
   ]
  },
  {
   "cell_type": "code",
   "execution_count": 1,
   "id": "a334a650",
   "metadata": {},
   "outputs": [],
   "source": [
    "# Récupération variable enrionnement\n",
    "from dotenv import load_dotenv\n",
    "import os\n",
    "\n",
    "load_dotenv()  # charge le .env automatiquement\n",
    "MONGODB_URI = os.getenv(\"MONGODB_URI\")\n",
    "\n",
    "if not MONGODB_URI:\n",
    "    raise ValueError(\"MONGODB_URI is not set in the environment variables.\")"
   ]
  },
  {
   "cell_type": "code",
   "execution_count": 2,
   "id": "8585115e",
   "metadata": {},
   "outputs": [
    {
     "name": "stdout",
     "output_type": "stream",
     "text": [
      "Connected to DB\n"
     ]
    }
   ],
   "source": [
    "from pymongo import MongoClient\n",
    "\n",
    "client = MongoClient(MONGODB_URI)\n",
    "\n",
    "if client is not None:\n",
    "    print(\"Connected to DB\")\n",
    "else:\n",
    "    print(\"Failed to connect to DB\")"
   ]
  },
  {
   "cell_type": "code",
   "execution_count": 3,
   "id": "c352ccb9",
   "metadata": {},
   "outputs": [
    {
     "name": "stdout",
     "output_type": "stream",
     "text": [
      "Successfully connected to : ai-wedder\n"
     ]
    }
   ],
   "source": [
    "# Base de données\n",
    "db = client[\"ai-wedder\"]\n",
    "\n",
    "print(\"Successfully connected to :\", db.name)"
   ]
  },
  {
   "cell_type": "markdown",
   "id": "a2d7e3e4",
   "metadata": {},
   "source": [
    "### Chargement des datas"
   ]
  },
  {
   "cell_type": "code",
   "execution_count": 4,
   "id": "6ac50103",
   "metadata": {},
   "outputs": [],
   "source": [
    "# Modèle cible\n",
    "Review = db[\"reviews\"]\n",
    "\n",
    "# Récupération des données\n",
    "reviews = Review.aggregate([\n",
    "    {\n",
    "        \"$group\": {\n",
    "            \"_id\": \"$venue\",\n",
    "            \"reviews\": {\n",
    "                \"$push\": {\n",
    "                    \"text\": \"$text\",\n",
    "                    \"sentiment\": \"$aiSentiment\",\n",
    "                    \"sentimentConfidenceScore\": \"$aiConfidenceScore\",\n",
    "                    \"tags\": \"$aiClusters\"\n",
    "                }\n",
    "            }\n",
    "        }\n",
    "    },\n",
    "    {\n",
    "        \"$lookup\": {\n",
    "            \"from\": \"venues\",\n",
    "            \"localField\": \"_id\",\n",
    "            \"foreignField\": \"_id\",\n",
    "            \"as\": \"catering_company\"\n",
    "        }\n",
    "    },\n",
    "    {\n",
    "        \"$project\": {\n",
    "            \"cateringCompanyId\": { \"$first\": \"$catering_company._id\" },\n",
    "            \"cateringCompanyName\": { \"$first\": \"$catering_company.name\" },\n",
    "            \"reviews\": \"$reviews\"\n",
    "        }\n",
    "    },\n",
    "    {\n",
    "        \"$project\": {\n",
    "            \"_id\": 0\n",
    "        }\n",
    "    }\n",
    "])\n",
    "\n",
    "reviews_list = list(reviews)"
   ]
  },
  {
   "cell_type": "code",
   "execution_count": 8,
   "id": "6ef62b6d",
   "metadata": {},
   "outputs": [
    {
     "name": "stdout",
     "output_type": "stream",
     "text": [
      "✅ Export done : ../data/catering_reviews_clustered.json\n"
     ]
    }
   ],
   "source": [
    "import json\n",
    "import os\n",
    "from bson import ObjectId\n",
    "\n",
    "# Fonction de transformation récursive\n",
    "def convert_objectids(obj):\n",
    "    if isinstance(obj, list):\n",
    "        return [convert_objectids(item) for item in obj]\n",
    "    elif isinstance(obj, dict):\n",
    "        return {k: convert_objectids(v) for k, v in obj.items()}\n",
    "    elif isinstance(obj, ObjectId):\n",
    "        return str(obj)\n",
    "    else:\n",
    "        return obj\n",
    "\n",
    "# Conversion des ObjectId\n",
    "cleaned_reviews = convert_objectids(reviews_list)\n",
    "\n",
    "# Création du dossier d'export\n",
    "output_dir = \"../data\"\n",
    "os.makedirs(output_dir, exist_ok=True)\n",
    "\n",
    "# Sauvegarde en JSON\n",
    "output_path = f\"{output_dir}/catering_reviews_clustered.json\"\n",
    "with open(output_path, \"w\", encoding=\"utf-8\") as f:\n",
    "    json.dump(cleaned_reviews, f, ensure_ascii=False, indent=2)\n",
    "\n",
    "print(f\"✅ Export done : {output_path}\")"
   ]
  }
 ],
 "metadata": {
  "kernelspec": {
   "display_name": "ai-wedder",
   "language": "python",
   "name": "python3"
  },
  "language_info": {
   "codemirror_mode": {
    "name": "ipython",
    "version": 3
   },
   "file_extension": ".py",
   "mimetype": "text/x-python",
   "name": "python",
   "nbconvert_exporter": "python",
   "pygments_lexer": "ipython3",
   "version": "3.13.5"
  }
 },
 "nbformat": 4,
 "nbformat_minor": 5
}
